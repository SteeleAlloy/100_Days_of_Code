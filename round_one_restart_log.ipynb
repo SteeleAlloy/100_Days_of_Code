{
 "cells": [
  {
   "cell_type": "markdown",
   "metadata": {},
   "source": [
    "# Day 24/110: Practice Python (7/25/19)"
   ]
  },
  {
   "cell_type": "markdown",
   "metadata": {},
   "source": [
    "Skipping exercise 21 and coming back later!\n",
    "\n",
    "**Exercise 28: Max of Three**\n",
    "\n",
    "Implement a function that takes as input three variables, and returns the largest of the three. Do this without using the Python max() function!\n",
    "\n",
    "The goal of this exercise is to think about some internals that Python normally takes care of for us. All you need is some variables and if statements!"
   ]
  },
  {
   "cell_type": "markdown",
   "metadata": {},
   "source": [
    "### Think Through: \n",
    "\n",
    "What do I need to do in this assignment?\n",
    "1. get input of 3 variables from user\n",
    "2. Return the largest of the three variables\n",
    "3. Some sort of if loop looking at the value for each and comparing (can't use max() function, but that's ok!)"
   ]
  },
  {
   "cell_type": "code",
   "execution_count": 7,
   "metadata": {
    "scrolled": true
   },
   "outputs": [
    {
     "name": "stdout",
     "output_type": "stream",
     "text": [
      "Please give me three different numbers below! \n",
      "What is your first number? 5\n",
      "What is your second number? 10\n",
      "What is your third number? 2\n",
      "10 is the biggest number.\n"
     ]
    }
   ],
   "source": [
    "print(\"Please give me three different numbers below! \")\n",
    "first = int(input(\"What is your first number? \"))\n",
    "second = int(input('What is your second number? '))\n",
    "third = int(input('What is your third number? '))\n",
    "\n",
    "if first > second:\n",
    "    print(first, 'is the biggest number.')\n",
    "elif second > third:\n",
    "    print(second, 'is the biggest number.')\n",
    "elif first > third:\n",
    "    print(first, 'is the biggest number.')\n",
    "else: \n",
    "    print(third, 'is the biggest number.')\n",
    "    \n",
    "    "
   ]
  },
  {
   "cell_type": "markdown",
   "metadata": {},
   "source": [
    "YES!!! I did it!!! I was super confused about the if loop, but I drew a chart and it all worked out in the end! On to the next practice!"
   ]
  },
  {
   "cell_type": "markdown",
   "metadata": {},
   "source": [
    "**Exercise 33: Birthday Dictionaries**\n",
    "\n",
    "For this exercise, we will keep track of when our friend’s birthdays are, and be able to find that information based on their name. Create a dictionary (in your file) of names and birthdays. When you run your program it should ask the user to enter a name, and return the birthday of that person back to them. The interaction should look something like this:\n",
    "\n",
    ">>> Welcome to the birthday dictionary. We know the birthdays of:\n",
    "Albert Einstein\n",
    "Benjamin Franklin\n",
    "Ada Lovelace\n",
    ">>> Who's birthday do you want to look up?\n",
    "Benjamin Franklin\n",
    ">>> Benjamin Franklin's birthday is 01/17/1706."
   ]
  },
  {
   "cell_type": "markdown",
   "metadata": {},
   "source": [
    "## Think Through:\n",
    "To beat this assignment I need to:\n",
    "1. Store a dictionary of names & birthdays I provide\n",
    "2. Allow user input for name (need to be super specific here!)\n",
    "3. Connect inputted name and provide birthday\n",
    "\n",
    "Bonus:\n",
    "Allow user to input name/birthday into a dictionary and call it as well!"
   ]
  },
  {
   "cell_type": "code",
   "execution_count": 11,
   "metadata": {
    "scrolled": true
   },
   "outputs": [],
   "source": [
    "birthdays = {'Hopper':'12/09/1906', 'Franklin': '07/25/1920', 'Lovelace': '01/17/1706', 'Curie': '11/07/1867' }"
   ]
  },
  {
   "cell_type": "code",
   "execution_count": 13,
   "metadata": {},
   "outputs": [
    {
     "name": "stdout",
     "output_type": "stream",
     "text": [
      "Welcome to the birthday dictionary. We know the birthdays of : Rear Admiral Grace Hopper, Rosalind Franklin, Lady Ada Lovelace, and Marie Curie.\n",
      "Who's birthday do you want to look up? Please use last name only!Curie\n",
      "11/07/1867\n"
     ]
    }
   ],
   "source": [
    "print('Welcome to the birthday dictionary. We know the birthdays of : Rear Admiral Grace Hopper, Rosalind Franklin, Lady Ada Lovelace, and Marie Curie.')\n",
    "birthday = input('Who\\'s birthday do you want to look up? Please use last name only!')\n",
    "\n",
    "if birthday == 'Hopper':\n",
    "    print(birthdays['Hopper'])\n",
    "elif birthday == 'Franklin':\n",
    "    print(birthdays['Franklin'])\n",
    "elif birthday == 'Lovelace':\n",
    "    print(birthdays['Lovelace'])\n",
    "else:\n",
    "    print(birthdays['Curie'])"
   ]
  },
  {
   "cell_type": "markdown",
   "metadata": {},
   "source": [
    "AWESOME!! I got this to work! I accidentally wrote the wrong dictionary name in my if statements at first (birthday instead of birthdays) but I figured it out and got it to work!"
   ]
  },
  {
   "cell_type": "code",
   "execution_count": null,
   "metadata": {},
   "outputs": [],
   "source": [
    "# Making a user input defined dictionary and seeing if I can get it to call correctly!\n",
    "my_dict = dict()\n",
    "\n",
    "user_input = input('Please enter a name and a birthday, seperated by a comma:')\n",
    "key, value = user_input.split(',')\n",
    "my_dict[key]= value\n",
    "\n",
    "\n",
    "keepon= input('Do you want to keep adding info? ')\n",
    "\n",
    "while keepon == 'yes':\n",
    "    user_input = input('Please enter a name and a birthday, seperated by a comma:')\n",
    "    key, value = user_input.split(',')\n",
    "    my_dict[key]= value\n",
    "    my_dict.update([(key,  value)])\n",
    "    \n",
    "else:\n",
    "    print('Thank you for playing!')\n"
   ]
  },
  {
   "cell_type": "markdown",
   "metadata": {},
   "source": [
    "I'm struggling a bit on the above while and for loop! I think I need to look into some way to practice this better before going on!"
   ]
  },
  {
   "cell_type": "markdown",
   "metadata": {},
   "source": [
    "# Day 23/100: Practice Python (7/24/19)\n",
    "Exercise 12: List Ends\n",
    "\n",
    "**Write a program that takes a list of numbers (for example, a = [5, 10, 15, 20, 25]) and makes a new list of only the first and last elements of the given list. For practice, write this code inside a function.**"
   ]
  },
  {
   "cell_type": "markdown",
   "metadata": {},
   "source": [
    "Think through: I want my snippet to do the following:\n",
    "1. Get input from the user with a list of numbers (automatically convert them into int)\n",
    "2. Write a function that does the following:\n",
    "    a. Takes the first and last number in the list\n",
    "    b. Prints out the numbers and a message\n",
    "    c. Asks for more numbers\n",
    "\n",
    "Since I'm writing a function I should start with that and then work backwards!\n",
    "\n",
    "**Modification:** Since it is stupid hard to start with the idea of asking a user for a list input for me atm, I'm going to leave that off right now."
   ]
  },
  {
   "cell_type": "code",
   "execution_count": 9,
   "metadata": {},
   "outputs": [],
   "source": [
    "# Define our list to have input added to!\n",
    "numbers = []\n",
    "# Make our function\n",
    "def list_numbers(numbers):\n",
    "    first = numbers[0]\n",
    "    last = numbers[-1]\n",
    "    return print('Your first number is  ', first, 'and your last number is ', last)"
   ]
  },
  {
   "cell_type": "code",
   "execution_count": 23,
   "metadata": {},
   "outputs": [
    {
     "name": "stdout",
     "output_type": "stream",
     "text": [
      "Your first number is   1 and your last number is  3\n"
     ]
    }
   ],
   "source": [
    "numbers = [1,2,3]\n",
    "list_numbers(numbers)"
   ]
  },
  {
   "cell_type": "code",
   "execution_count": 22,
   "metadata": {},
   "outputs": [
    {
     "name": "stdout",
     "output_type": "stream",
     "text": [
      "Your first number is   222 and your last number is  12313216546546531\n"
     ]
    }
   ],
   "source": [
    "numbers = [222,2222,25454,121545646345413,21213215464531,12313216546546531]\n",
    "list_numbers(numbers)"
   ]
  },
  {
   "cell_type": "markdown",
   "metadata": {},
   "source": [
    "Cool! I got it to work for numbers I provide without looking at the solution! Now, let's see if we can take a user input and do the same thing!"
   ]
  },
  {
   "cell_type": "code",
   "execution_count": 33,
   "metadata": {},
   "outputs": [
    {
     "name": "stdout",
     "output_type": "stream",
     "text": [
      "Enter a list of numbers seperated by a space.1 2 3\n"
     ]
    }
   ],
   "source": [
    "n= input('Enter a list of numbers seperated by a space. ')"
   ]
  },
  {
   "cell_type": "code",
   "execution_count": 36,
   "metadata": {},
   "outputs": [
    {
     "name": "stdout",
     "output_type": "stream",
     "text": [
      "Your first number is   1 and your last number is  3\n"
     ]
    }
   ],
   "source": [
    "numbers = n.split()\n",
    "list_numbers(numbers)"
   ]
  },
  {
   "cell_type": "code",
   "execution_count": null,
   "metadata": {},
   "outputs": [],
   "source": [
    "n= input('Enter a list of numbers seperated by a space. ')\n",
    "numbers = n.split()\n",
    "list_numbers(numbers)"
   ]
  },
  {
   "cell_type": "markdown",
   "metadata": {},
   "source": [
    "YAY!!! I got this to work!!! Let's move on to another 1 pepper assignment!"
   ]
  },
  {
   "cell_type": "markdown",
   "metadata": {},
   "source": [
    "## PP Exercise 20: Element Search\n",
    "\n",
    "Write a function that takes an ordered list of numbers (a list where the elements are in order from smallest to largest) and another number. The function decides whether or not the given number is inside the list and returns (then prints) an appropriate boolean.\n",
    "\n",
    "Extras:\n",
    "\n",
    "Use binary search."
   ]
  },
  {
   "cell_type": "markdown",
   "metadata": {},
   "source": [
    "**Think-through:**\n",
    "\n",
    "So, I need to create a function that takes both a list (which is ordered- do I need to have it be ordered or can py order it for me?) and another number. The function then looks if the number is in the list and prints either True of False. \n",
    "\n",
    "Ok, here is my plan of attack for this:\n",
    "1. Define the function\n",
    "2. Create a blank list for numbers to go into\n",
    "3. Create a variable for second number\n",
    "4. Figure out how to check if the number is inside of the list\n",
    "5. Print out True or False\n",
    "\n",
    "\n",
    "After I get the basics of this done I want to ask for user input for the list, have Python sort it by smallest to greatest, ask for the second number, check if the number is in the list, and return \"yes\" or \"no\" not T/F."
   ]
  },
  {
   "cell_type": "code",
   "execution_count": 47,
   "metadata": {},
   "outputs": [],
   "source": [
    "list_1: []\n",
    "\n",
    "def checking (list_1, number):\n",
    "            if number in list_1:\n",
    "                print('Your number, ', number, ' is in the list!')\n",
    "                \n",
    "            else:\n",
    "                print('Your number,', number, 'is not in the list!')"
   ]
  },
  {
   "cell_type": "code",
   "execution_count": 40,
   "metadata": {},
   "outputs": [],
   "source": [
    "mylist = [1,2,3,4,5]\n",
    "number = 2"
   ]
  },
  {
   "cell_type": "code",
   "execution_count": 41,
   "metadata": {},
   "outputs": [
    {
     "name": "stdout",
     "output_type": "stream",
     "text": [
      "True\n"
     ]
    }
   ],
   "source": [
    "checking(mylist, number)"
   ]
  },
  {
   "cell_type": "code",
   "execution_count": 42,
   "metadata": {},
   "outputs": [
    {
     "name": "stdout",
     "output_type": "stream",
     "text": [
      "False\n"
     ]
    }
   ],
   "source": [
    "mylist = [2,3,4,5,6]\n",
    "number = 8\n",
    "checking(mylist, number)"
   ]
  },
  {
   "cell_type": "code",
   "execution_count": 48,
   "metadata": {},
   "outputs": [
    {
     "name": "stdout",
     "output_type": "stream",
     "text": [
      "Please enter a list of numbers seperated by a space. 22 25 \n",
      "Please enter a number: 2\n",
      "Your number, 2 is not in the list!\n"
     ]
    }
   ],
   "source": [
    "list_input = input('Please enter a list of numbers seperated by a space. ')\n",
    "mylist = list_input.split()\n",
    "number = input('Please enter a number: ')\n",
    "checking(mylist, number)"
   ]
  },
  {
   "cell_type": "markdown",
   "metadata": {},
   "source": [
    "SWEET!!! I got it to work!!! Let's move on to one more exercise for the day!"
   ]
  },
  {
   "cell_type": "markdown",
   "metadata": {},
   "source": [
    "## PP Exercise 21: Write to a File\n",
    "\n",
    "Take the code from the How To Decode A Website exercise (if you didn’t do it or just want to play with some different code, use the code from the solution), and instead of printing the results to a screen, write the results to a txt file. In your code, just make up a name for the file you are saving to.\n",
    "\n",
    "**Extras:**\n",
    "\n",
    "Ask the user to specify the name of the output file that will be saved."
   ]
  },
  {
   "cell_type": "markdown",
   "metadata": {},
   "source": [
    "**Think-Through:**\n",
    " I know that I need to take the code below that shows the heading of a story and prints it to the screen but modify it to save the output to a file. \n",
    " \n",
    " I need to figure out how to save something to a file.\n",
    " Bonus: I can ask what I want the file to be called."
   ]
  },
  {
   "cell_type": "markdown",
   "metadata": {},
   "source": [
    "This program/input of BeautifulSoup and requests isn't working right. Spending the next 5 minutes trying to figure it all out and then stopping for the day!"
   ]
  },
  {
   "cell_type": "code",
   "execution_count": 60,
   "metadata": {},
   "outputs": [
    {
     "name": "stdout",
     "output_type": "stream",
     "text": [
      "{\"message\":\"Hello there, wayfaring stranger. If you’re reading this then you probably didn’t see our blog post a couple of years back announcing that this API would go away: http://git.io/17AROg Fear not, you should be able to get what you need from the shiny new Events API instead.\",\"documentation_url\":\"https://developer.github.com/v3/activity/events/#list-public-events\"}\n",
      "<bound method Response.json of <Response [410]>>\n"
     ]
    }
   ],
   "source": [
    "# Trying a bit of code borroed from somewhere else:\n",
    "import requests\n",
    "r = requests.get('https://github.com/timeline.json')\n",
    "print (r.text)\n",
    " \n",
    "# The Requests library also comes with a built-in JSON decoder,\n",
    "# just in case you have to deal with JSON data\n",
    " \n",
    "import requests\n",
    "r = requests.get('https://github.com/timeline.json')\n",
    "print (r.json)"
   ]
  },
  {
   "cell_type": "markdown",
   "metadata": {},
   "source": [
    "The text above (although the link to the API is outdated) show me that requests actually does work on my machine. Cool! Next, trying to figure out how to get BeautifulSoup to work as well!"
   ]
  },
  {
   "cell_type": "code",
   "execution_count": 56,
   "metadata": {},
   "outputs": [
    {
     "name": "stdout",
     "output_type": "stream",
     "text": [
      "[]\n"
     ]
    }
   ],
   "source": [
    "# Borrowed the coed they told me to borrow!\n",
    "import requests\n",
    "from bs4 import BeautifulSoup\n",
    "\n",
    "url = 'http://www.nytimes.com/'\n",
    "ttl_lst = []\n",
    "\n",
    "soup = BeautifulSoup(requests.get(url).text)\n",
    "title = soup.findAll('h2', {'class': 'story-heading'})\n",
    "for row in title:\n",
    "     ttl_lst.append(row.text)\n",
    "\n",
    "print (ttl_lst)"
   ]
  },
  {
   "cell_type": "markdown",
   "metadata": {},
   "source": [
    "## R1 Day 1 Re-Do: Practice Python 9\n",
    "I \"fell off\" the coding wagon and lost track of my days. Back at it and re-starting with pp 9!"
   ]
  },
  {
   "cell_type": "markdown",
   "metadata": {},
   "source": [
    "Generate a random number between 1 and 9 (including 1 and 9). Ask the user to guess the number, then tell them whether they guessed too low, too high, or exactly right. (Hint: remember to use the user input lessons from the very first exercise)\n",
    "\n",
    "**Extras:**\n",
    "\n",
    "Keep the game going until the user types “exit”\n",
    "Keep track of how many guesses the user has taken, and when the game ends, print this out."
   ]
  },
  {
   "cell_type": "markdown",
   "metadata": {},
   "source": [
    "# Borrowed solution code to help me understand\n",
    "import random\n",
    "\n",
    "#creating variables to hold the randomn number\n",
    "rd = random.randint(1,9)\n",
    "guess = 0 #We start this at zero so we can play with it and change it as the user inputs info\n",
    "c = 0 #This is our count variable\n",
    "#Starting info- here is where we ask the user for their input and change the original value of guess to user's\n",
    "while guess != rd and guess != \"exit\":\n",
    "    guess = input(\"Enter a guess between 1 to 9 \")\n",
    "#the line below is how we can get out of this loop\n",
    "    if guess == \"exit\":\n",
    "        break\n",
    "# Line below is keeping track of how many times you have guessed the random number. \n",
    "    guess = int(guess)\n",
    "    c += 1\n",
    "\n",
    "    if guess < rd:\n",
    "        print(\"Too low\")\n",
    "    elif guess > rd:\n",
    "        print(\"Too high\")\n",
    "    else:\n",
    "        print(\"Right!\")\n",
    "        print(\"You took only\", c, \"tries!\")\n",
    "input()"
   ]
  },
  {
   "cell_type": "markdown",
   "metadata": {},
   "source": [
    "Something weird is happening in the code above! It looks like there is a spacing error in the question that asks for input. Trying to fix. FIXED!!"
   ]
  },
  {
   "cell_type": "markdown",
   "metadata": {},
   "source": [
    "Here is my tinkering below:"
   ]
  },
  {
   "cell_type": "code",
   "execution_count": null,
   "metadata": {},
   "outputs": [],
   "source": [
    "random_num= randomn.randint(1,9)\n",
    "user_guess = 0\n",
    "\n",
    "while user_guess =! random_num and user_guess != 'exit':\n",
    "    user_guess = int(input('Give me a number from 1 to 9: '))\n",
    "    \n",
    "    if user_guess = 'exit':\n",
    "        break\n",
    "    \n",
    "    if user_guess > random_num:\n",
    "        print('Too high!')\n",
    "    elif user_guess < random_num:\n",
    "        print('Too low!')\n",
    "    else:\n",
    "        print('You got it! Awesome!')"
   ]
  }
 ],
 "metadata": {
  "kernelspec": {
   "display_name": "Python 3",
   "language": "python",
   "name": "python3"
  },
  "language_info": {
   "codemirror_mode": {
    "name": "ipython",
    "version": 3
   },
   "file_extension": ".py",
   "mimetype": "text/x-python",
   "name": "python",
   "nbconvert_exporter": "python",
   "pygments_lexer": "ipython3",
   "version": "3.7.3"
  }
 },
 "nbformat": 4,
 "nbformat_minor": 2
}
